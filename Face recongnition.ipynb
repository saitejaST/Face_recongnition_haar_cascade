{
 "cells": [
  {
   "cell_type": "code",
   "execution_count": null,
   "id": "f2134d4f-2851-4aca-bc10-a42ae9c71ab2",
   "metadata": {},
   "outputs": [],
   "source": [
    "import cv2\n",
    "\n",
    "# Initialize video capture object\n",
    "cap = cv2.VideoCapture(0)\n",
    "\n",
    "# Define the image size scaling factor\n",
    "scaling_factor = 0.5\n",
    "\n",
    "# Check if the camera opened successfully\n",
    "if not cap.isOpened():\n",
    "    print(\"Error: Failed to open camera.\")\n",
    "    exit()\n",
    "\n",
    "# Loop until you hit the Esc key\n",
    "while True:\n",
    "    # Capture the current frame\n",
    "    ret, frame = cap.read()\n",
    "\n",
    "    # Check if frame was read successfully\n",
    "    if not ret:\n",
    "        print(\"Error: Failed to capture frame.\")\n",
    "        break\n",
    "\n",
    "    # Resize the frame\n",
    "    frame = cv2.resize(frame, None, fx=scaling_factor, fy=scaling_factor, interpolation=cv2.INTER_AREA)\n",
    "\n",
    "    # Display the image\n",
    "    cv2.imshow('Webcam', frame)\n",
    "\n",
    "    # Detect if the Esc key has been pressed\n",
    "    c = cv2.waitKey(1)\n",
    "    if c == 27:\n",
    "        break\n",
    "\n",
    "# Release the video capture object\n",
    "cap.release()\n",
    "\n",
    "# Close all active windows\n",
    "cv2.destroyAllWindows()\n"
   ]
  },
  {
   "cell_type": "code",
   "execution_count": null,
   "id": "dc243485-13ac-4b25-8535-57ed4d838918",
   "metadata": {},
   "outputs": [],
   "source": [
    "\n",
    "\n",
    "                                     "
   ]
  }
 ],
 "metadata": {
  "kernelspec": {
   "display_name": "Python 3 (ipykernel)",
   "language": "python",
   "name": "python3"
  },
  "language_info": {
   "codemirror_mode": {
    "name": "ipython",
    "version": 3
   },
   "file_extension": ".py",
   "mimetype": "text/x-python",
   "name": "python",
   "nbconvert_exporter": "python",
   "pygments_lexer": "ipython3",
   "version": "3.10.2"
  }
 },
 "nbformat": 4,
 "nbformat_minor": 5
}
